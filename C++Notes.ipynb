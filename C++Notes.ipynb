{
 "cells": [
  {
   "cell_type": "markdown",
   "metadata": {},
   "source": [
    "-   <font color='red'>#include <iostream></font> is a header file library that lets us work with input and output objects, such as cout  (used in line 5). Header files add functionality to C++ programs.\n",
    "-   <font color='red'>using namespace std</font> means that we can use names for objects and variables from the standard library.\n",
    "-   A blank line. C++ ignores white space. But we use it to make the code more readable.\n",
    "-   Another thing that always appear in a C++ program is <font color='red'>int main()</font>. This is called a function. Any code inside its curly brackets {} will be executed.\n",
    "-   <font color='red'>cout</font> (pronounced \"see-out\") is an object used together with the insertion operator (<<) to output/print text. In our example, it will output \"Hello World!\".\n",
    "-   <font color='red'>return 0</font> ends the main function.   "
   ]
  },
  {
   "cell_type": "markdown",
   "metadata": {},
   "source": []
  },
  {
   "cell_type": "markdown",
   "metadata": {},
   "source": [
    "<h1> Print -- cout </h1>"
   ]
  },
  {
   "cell_type": "markdown",
   "metadata": {},
   "source": [
    "cout << \"Hello World!\";"
   ]
  },
  {
   "cell_type": "markdown",
   "metadata": {},
   "source": [
    "- <font color='red'> \\n </font>\n",
    "        \n",
    "        \n",
    "        cout << \"Hello World! \\n\";\n",
    "- <font color='red'>endl</font>\n",
    "\n",
    "        cout << \"Hello World!\" << endl;"
   ]
  },
  {
   "cell_type": "markdown",
   "metadata": {},
   "source": [
    "<h1> Comments </h1>"
   ]
  },
  {
   "cell_type": "markdown",
   "metadata": {},
   "source": [
    "- single line comment\n",
    "        \n",
    "        // This is a comment\n",
    "- Multiline comment\n",
    "        \n",
    "        /* The code below will print the words Hello World!to the screen, and it is amazing */"
   ]
  },
  {
   "cell_type": "markdown",
   "metadata": {},
   "source": [
    "<h1> Datatypes</h1>"
   ]
  },
  {
   "cell_type": "markdown",
   "metadata": {},
   "source": [
    "- int\n",
    "- double\n",
    "- char\n",
    "- string\n",
    "- bool"
   ]
  },
  {
   "cell_type": "markdown",
   "metadata": {},
   "source": [
    "- int myNum = 5;               // Integer (whole number without decimals)\n",
    "- double myFloatNum = 5.99;    // Floating point number (with decimals)\n",
    "- char myLetter = 'D';         // Character\n",
    "- string myText = \"Hello\";     // String (text)\n",
    "- bool myBoolean = true;       // Boolean (true or false)"
   ]
  },
  {
   "cell_type": "markdown",
   "metadata": {},
   "source": [
    "<h1>Constant</h1>"
   ]
  },
  {
   "cell_type": "markdown",
   "metadata": {},
   "source": [
    "When you declare a constant variable, it must be assigned with a value\n",
    "- const int minutesPerHour = 60;\n",
    "- const float PI = 3.14;"
   ]
  },
  {
   "cell_type": "markdown",
   "metadata": {},
   "source": [
    "<h1> scanf/input --- cin </h1>"
   ]
  },
  {
   "cell_type": "markdown",
   "metadata": {},
   "source": [
    "cin is a predefined variable that reads data from the keyboard with the extraction operator (>>)"
   ]
  },
  {
   "cell_type": "markdown",
   "metadata": {},
   "source": [
    "cin >> x;"
   ]
  },
  {
   "cell_type": "markdown",
   "metadata": {},
   "source": [
    "- To execute the code first create exe file for every program.\n",
    "- This .exe file is machine code which will be used to execute the code.\n",
    "- g++ test.cpp -o test.exe   "
   ]
  },
  {
   "cell_type": "markdown",
   "metadata": {},
   "source": []
  }
 ],
 "metadata": {
  "kernelspec": {
   "display_name": "Python 3",
   "language": "python",
   "name": "python3"
  },
  "language_info": {
   "codemirror_mode": {
    "name": "ipython",
    "version": 3
   },
   "file_extension": ".py",
   "mimetype": "text/x-python",
   "name": "python",
   "nbconvert_exporter": "python",
   "pygments_lexer": "ipython3",
   "version": "3.10.5"
  }
 },
 "nbformat": 4,
 "nbformat_minor": 2
}
